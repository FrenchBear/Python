{
 "cells": [
  {
   "cell_type": "code",
   "execution_count": 1,
   "metadata": {},
   "outputs": [],
   "source": [
    "# Multiplication of large numbers using polynomials\n",
    "# This method has a cost in n.ln(n).ln(ln(n)) multiplying large numbers, while traditional multiplication has a n² cost,\n",
    "# and Karatsuba algorithm is in n^1.58\n",
    "# Ideas: \n",
    "# - number can be converted into a polynomial and back: 315 <-> 3x²+x5, with carry handling when converting polynomial -> number\n",
    "# - a polynomial of degree n is uniquely defined by its value in (n+1) points. Lagrange interpolation converts (n+1) couples (x,y) into a polynomial\n",
    "# - multiplication of polynomials can be done by multiplying values in several points: [PQ](x) = P(x).Q(x)\n",
    "# - evaluation of a polynomial on (n+1) roots of unity can be done in n.ln(n) (Horner method is in n, and doing it on 2n values has a complexity of n²)\n",
    "#\n",
    "# 2018-08-13    PV"
   ]
  },
  {
   "cell_type": "code",
   "execution_count": 2,
   "metadata": {},
   "outputs": [],
   "source": [
    "import numpy as np\n",
    "from scipy.interpolate import lagrange\n",
    "import math"
   ]
  },
  {
   "cell_type": "code",
   "execution_count": 3,
   "metadata": {
    "tags": []
   },
   "outputs": [
    {
     "output_type": "stream",
     "name": "stdout",
     "text": "3     2\n1 x - 3 x + 5 x + 2\n[ 1 -3  5  2]\n8 8\n"
    }
   ],
   "source": [
    "# Simple polynomial test\n",
    "p = np.poly1d([1,-3,5,2])\n",
    "print(p)\n",
    "print(p.c)\n",
    "print(p(2), np.polyval(p, 2))"
   ]
  },
  {
   "cell_type": "code",
   "execution_count": 4,
   "metadata": {
    "tags": []
   },
   "outputs": [
    {
     "output_type": "stream",
     "name": "stdout",
     "text": "2\n1 x - 5 x + 6\n"
    }
   ],
   "source": [
    "# Simple Lagrange interpolation test\n",
    "xt = np.array([0, 1, 2])\n",
    "yt = xt**2-5*xt+6     # Secret polynomial\n",
    "p0 = lagrange(xt, yt)\n",
    "print(p0)"
   ]
  },
  {
   "cell_type": "code",
   "execution_count": 5,
   "metadata": {
    "tags": []
   },
   "outputs": [
    {
     "output_type": "stream",
     "name": "stdout",
     "text": "4     3      2\n2 x + 8 x + 19 x + 22 x + 15\n"
    }
   ],
   "source": [
    "# Direct multiplication using numpy polynomial multiplication\n",
    "# Build polynomials for 123 and 245\n",
    "p1 = np.poly1d([1,2,3])\n",
    "p2 = np.poly1d([2,4,5])\n",
    "p3a = np.polymul(p1,p2)\n",
    "print(p3a)"
   ]
  },
  {
   "cell_type": "code",
   "execution_count": 6,
   "metadata": {
    "tags": []
   },
   "outputs": [
    {
     "output_type": "stream",
     "name": "stdout",
     "text": "30135\n30135\n"
    }
   ],
   "source": [
    "# Normalization function to convert back a polynomial into a number, propagating carry\n",
    "def polytonum(p):\n",
    "    n = \"\"\n",
    "    r = 0\n",
    "    for i in reversed(p.c):\n",
    "        assert abs(i.imag)<1e-6       # Safeguard, in this code, complex part of p coefficients must be almost nul\n",
    "        assert abs(i.real - int(i.real+1e-6))<1e-6    # and real part must be integers\n",
    "        r, d = divmod(int(i.real+1e-6)+r, 10)\n",
    "        n = str(d) + n\n",
    "    if r>0:\n",
    "        n = str(r) + n\n",
    "    return int(n)\n",
    "\n",
    "print(polytonum(p3a))\n",
    "print(123*245)      # Verification"
   ]
  },
  {
   "cell_type": "code",
   "execution_count": 7,
   "metadata": {
    "tags": []
   },
   "outputs": [
    {
     "output_type": "stream",
     "name": "stdout",
     "text": "4     3      2\n2 x + 8 x + 19 x + 22 x + 15\n30135\n"
    }
   ],
   "source": [
    "# Alternate method to multiply polynomials, evaluate p1 and p2 in len(p1)+len(p2) points, multiply the results,\n",
    "# then use lagrange interpolation to find associated polynomial\n",
    "x = np.array([1,2,3,4,5,6])\n",
    "y1 = p1(x)\n",
    "y2 = p2(x)\n",
    "y3 = y1*y2\n",
    "p3b = lagrange(x, y3)\n",
    "print(p3b)\n",
    "print(polytonum(p3b))"
   ]
  },
  {
   "cell_type": "code",
   "execution_count": 8,
   "metadata": {
    "tags": []
   },
   "outputs": [
    {
     "output_type": "stream",
     "name": "stdout",
     "text": "[ 6.1232340e-17+1.0000000e+00j -1.0000000e+00+1.2246468e-16j\n -1.8369702e-16-1.0000000e+00j  1.0000000e+00-2.4492936e-16j]\n"
    }
   ],
   "source": [
    "# Compute roots of unity.  Returns 1 as the last root.\n",
    "def nthRootsOfUnity1(n):\n",
    "    return np.exp(2j * np.pi / n * np.arange(1, n+1))\n",
    "\n",
    "# Test, should return [j -1 -j 1]\n",
    "print(nthRootsOfUnity1(4))"
   ]
  },
  {
   "cell_type": "code",
   "execution_count": 9,
   "metadata": {
    "tags": []
   },
   "outputs": [
    {
     "output_type": "stream",
     "name": "stdout",
     "text": "5                    4                    3\n1.776e-15j x + (2 + 7.105e-15j) x + (8 + 5.329e-15j) x\n                      2\n + (19 + 3.553e-15j) x + (22 + 1.332e-15j) x + (15 + 2.22e-16j)\n30135\n"
    }
   ],
   "source": [
    "# Example of solving using complex roots of unity\n",
    "# Skip last root since it's always 1\n",
    "xc = nthRootsOfUnity1(7)[:-1]\n",
    "y1c = p1(xc)\n",
    "y2c = p2(xc)\n",
    "y3c = y1c*y2c\n",
    "p3c = lagrange(xc, y3c)\n",
    "print(p3c)\n",
    "print(polytonum(p3c))"
   ]
  },
  {
   "cell_type": "code",
   "execution_count": 10,
   "metadata": {},
   "outputs": [],
   "source": [
    "# Helper, compare lists of complexes, sometimes difficult to read and compare on screen\n",
    "def cmplc(l1, l2):\n",
    "    if len(l1)!=len(l2):\n",
    "        return False, \"Different length\"\n",
    "    for i in range(len(l1)):\n",
    "        if abs(l1[i]-l2[i])>1e-6: return False, \"Different values at index \"+str(i)\n",
    "    return True, \"\""
   ]
  },
  {
   "cell_type": "code",
   "execution_count": 11,
   "metadata": {
    "tags": []
   },
   "outputs": [
    {
     "output_type": "stream",
     "name": "stdout",
     "text": "x= [ 7.07106781e-01+7.07106781e-01j  6.12323400e-17+1.00000000e+00j\n -7.07106781e-01+7.07106781e-01j -1.00000000e+00+1.22464680e-16j\n -7.07106781e-01-7.07106781e-01j -1.83697020e-16-1.00000000e+00j\n  7.07106781e-01-7.07106781e-01j]\np=\n   7     6     5     4     3     2\n1 x + 2 x + 3 x + 4 x + 5 x + 6 x + 7 x + 8\nq=\n   3     2\n2 x + 4 x + 6 x + 8\nr=\n   3     2\n1 x + 3 x + 5 x + 7\n(True, '')\n\np(x)= [4.+9.65685425e+00j 4.+4.00000000e+00j 4.+1.65685425e+00j\n 4.+4.89858720e-16j 4.-1.65685425e+00j 4.-4.00000000e+00j\n 4.-9.65685425e+00j]\n(True, '')\n"
    }
   ],
   "source": [
    "# Now for discrete FFT optimization style, we need to compute n values where n+1 is a power of 2.\n",
    "n = 7\n",
    "x1 = nthRootsOfUnity1(n+1) \n",
    "x = x1[:-1]\n",
    "print(\"x=\", x)\n",
    "\n",
    "p = np.poly1d([1,2,3,4,5,6,7,8])\n",
    "print(\"p=\\n\",p, sep='')\n",
    "\n",
    "# Recursive evaluation, posing p(x) = x*r(x²)+q(x²)\n",
    "# q = polynomial(coefficients of even powers of p), contains constant coefficient (power 0)\n",
    "# r = polynomial(coefficients of odd powers of p)\n",
    "if len(p.c)%2==1:\n",
    "    q = np.poly1d(p.c[::2])\n",
    "    r = np.poly1d(p.c[1::2])\n",
    "else:\n",
    "    q = np.poly1d(p.c[1::2])\n",
    "    r = np.poly1d(p.c[::2])\n",
    "print(\"q=\\n\",q,sep='')\n",
    "print(\"r=\\n\",r,sep='')\n",
    "\n",
    "# xs contains the squares of x, taking every other values\n",
    "xs = []\n",
    "for i in range(n):\n",
    "    xs.append(x1[(2*i+1)%(n+1)])\n",
    "print(cmplc(xs, x*x))    # Verify\n",
    "print()\n",
    "\n",
    "e0 = p(x)\n",
    "e1 = x*r(xs)+q(xs)\n",
    "print(\"p(x)=\", e0)\n",
    "print(cmplc(e0, e1))     # Verify\n"
   ]
  },
  {
   "cell_type": "code",
   "execution_count": 12,
   "metadata": {},
   "outputs": [],
   "source": [
    "# Efficient polynomial evaluation at the nth values of (n+1) roots of the unit using FFT type recursion, when (n+1) is a power of 2\n",
    "# In actual fast multiplication, a recurse algorithm should probably not be used\n",
    "# x1 contains all the roots ending by 1 to simplify code, but polynomial is not evaluated for this value\n",
    "def epex(p, x1):\n",
    "    # If polynomial is small, direct evaluation\n",
    "    if len(p.c)<=3:\n",
    "        #print(\"$1: \", p.c)\n",
    "        return p(x1[:-1])\n",
    "    \n",
    "    # Recursive evaluation, posing p(x) = x*r(x²)+q(x²)\n",
    "    # q = polynomial(coefficients of even powers of p), contains constant coefficient (power 0)\n",
    "    # r = polynomial(coefficients of odd powers of p)\n",
    "    # x² = x[0, 2, 4...] modulo n since elements of x are unity roots\n",
    "    if len(p.c)%2==1:\n",
    "        q = np.poly1d(p.c[::2])\n",
    "        r = np.poly1d(p.c[1::2])\n",
    "    else:\n",
    "        q = np.poly1d(p.c[1::2])\n",
    "        r = np.poly1d(p.c[::2])\n",
    "    x2 = np.append(x1[1::2], x1[1::2])\n",
    "    return x1[:-1]*epex(r, x2) + epex(q, x2)"
   ]
  },
  {
   "cell_type": "code",
   "execution_count": 13,
   "metadata": {
    "tags": []
   },
   "outputs": [
    {
     "output_type": "stream",
     "name": "stdout",
     "text": "[4.+9.65685425e+00j 4.+4.00000000e+00j 4.+1.65685425e+00j\n 4.+9.79717439e-16j 4.-1.65685425e+00j 4.-4.00000000e+00j\n 4.-9.65685425e+00j]\n"
    }
   ],
   "source": [
    "# Test 1\n",
    "p = np.poly1d([1,2,3,4,5,6,7,8])\n",
    "l = math.ceil(math.log(len(p.c))/math.log(2))\n",
    "n = 2**l-1\n",
    "x1 = nthRootsOfUnity1(n+1)\n",
    "y = epex(p, x1)\n",
    "print(y)"
   ]
  },
  {
   "cell_type": "code",
   "execution_count": 14,
   "metadata": {
    "tags": []
   },
   "outputs": [
    {
     "output_type": "stream",
     "name": "stdout",
     "text": "[2.+2.0000000e+00j 2.+2.4492936e-16j 2.-2.0000000e+00j]\n[2.+2.0000000e+00j 2.+2.4492936e-16j 2.-2.0000000e+00j]\n(True, '')\n"
    }
   ],
   "source": [
    "# Another test, to make sure epex returns a result identical to direct evaluation (y2)\n",
    "p = np.poly1d([1,2,3,4])\n",
    "l = math.ceil(math.log(len(p.c))/math.log(2))\n",
    "n = 2**l-1\n",
    "x1 = nthRootsOfUnity1(n+1)\n",
    "y1 = epex(p, x1)\n",
    "y2 = p(x1[:-1])\n",
    "print(y1)\n",
    "print(y2)\n",
    "\n",
    "print(cmplc(y1, y2))"
   ]
  },
  {
   "cell_type": "code",
   "execution_count": 15,
   "metadata": {
    "tags": []
   },
   "outputs": [
    {
     "output_type": "stream",
     "name": "stdout",
     "text": "2\n1 x + 2 x + 3\n"
    }
   ],
   "source": [
    "# Helper number -> polynomial\n",
    "def numtopoly(n):\n",
    "    return np.poly1d([int(c) for c in str(n)])\n",
    "    \n",
    "print(numtopoly(123))"
   ]
  },
  {
   "cell_type": "code",
   "execution_count": 16,
   "metadata": {
    "tags": []
   },
   "outputs": [
    {
     "output_type": "stream",
     "name": "stdout",
     "text": "[11.58220534+6.49981314e+00j  5.41421356+7.24264069e+00j\n  2.56165432+4.05147161e+00j  3.        +2.00000000e+00j\n  3.19570499+1.80883092e+00j  2.58578644+1.24264069e+00j\n  2.66043535+2.57172451e-01j  3.        -1.97215226e-31j\n  2.66043535-2.57172451e-01j  2.58578644-1.24264069e+00j\n  3.19570499-1.80883092e+00j  3.        -2.00000000e+00j\n  2.56165432-4.05147161e+00j  5.41421356-7.24264069e+00j\n 11.58220534-6.49981314e+00j]\n[11.58220534+6.49981314j  5.41421356+7.24264069j  2.56165432+4.05147161j\n  3.        +2.j          3.19570499+1.80883092j  2.58578644+1.24264069j\n  2.66043535+0.25717245j  3.        +0.j          2.66043535-0.25717245j\n  2.58578644-1.24264069j  3.19570499-1.80883092j  3.        -2.j\n  2.56165432-4.05147161j  5.41421356-7.24264069j 11.58220534-6.49981314j]\n(True, '')\n"
    }
   ],
   "source": [
    "# Another test\n",
    "p = numtopoly(12345)\n",
    "l = 4\n",
    "n = 2**l-1\n",
    "x1 = nthRootsOfUnity1(n+1)\n",
    "y1 = epex(p, x1)\n",
    "y2 = p(x1[:-1])\n",
    "print(y1)\n",
    "print(y2)\n",
    "\n",
    "print(cmplc(y1, y2))"
   ]
  },
  {
   "cell_type": "code",
   "execution_count": 17,
   "metadata": {
    "tags": []
   },
   "outputs": [
    {
     "output_type": "stream",
     "name": "stdout",
     "text": "2\n1 x + 3 x + 2\n   2\n1 x + 3 x + 2\n"
    }
   ],
   "source": [
    "from numpy.linalg import inv\n",
    "\n",
    "# Personal implementation of Langrange interpolation since scipy.interpolate.lgrange is unstable according to documentation\n",
    "# and can't be user on more than 20 values. Indeed doesn't give correct results when mult result is over 32th root of unit.\n",
    "# Use vandermonde matrix to interpolate, we have Y = M x P where M is vandemonde(X) and P a vector form of the polynomial\n",
    "# so P = inv(M) x Y, returned as a poly1d\n",
    "# Implemented this way it has a high cost of inverting a matrix\n",
    "def myLagrange(x, y):\n",
    "    mint = inv(np.vander(x))\n",
    "    return np.poly1d(mint.dot(y))\n",
    "\n",
    "x = np.array([2,3,4])\n",
    "y = x**2+3*x+2\n",
    "print(lagrange(x, y))\n",
    "print(myLagrange(x, y))"
   ]
  },
  {
   "cell_type": "code",
   "execution_count": 18,
   "metadata": {
    "tags": []
   },
   "outputs": [
    {
     "output_type": "stream",
     "name": "stdout",
     "text": "1 1 9 True\n2 12 98 True\n3 123 987 True\n4 1234 9876 True\n5 12345 98765 True\n6 123456 987654 True\n7 1234567 9876543 True\n8 12345678 98765432 True\n9 123456789 987654321 True\n10 1234567890 9876543210 True\n11 12345678901 98765432109 True\n12 123456789012 987654321098 True\n13 1234567890123 9876543210987 True\n14 12345678901234 98765432109876 True\n15 123456789012345 987654321098765 True\n16 1234567890123456 9876543210987654 True\n17 12345678901234567 98765432109876543 True\n18 123456789012345678 987654321098765432 True\n19 1234567890123456789 9876543210987654321 True\n20 12345678901234567890 98765432109876543210 True\n21 123456789012345678901 987654321098765432109 True\n22 1234567890123456789012 9876543210987654321098 True\n23 12345678901234567890123 98765432109876543210987 True\n24 123456789012345678901234 987654321098765432109876 True\n25 1234567890123456789012345 9876543210987654321098765 True\n26 12345678901234567890123456 98765432109876543210987654 True\n27 123456789012345678901234567 987654321098765432109876543 True\n28 1234567890123456789012345678 9876543210987654321098765432 True\n29 12345678901234567890123456789 98765432109876543210987654321 True\n30 123456789012345678901234567890 987654321098765432109876543210 True\n31 1234567890123456789012345678901 9876543210987654321098765432109 True\n32 12345678901234567890123456789012 98765432109876543210987654321098 True\n33 123456789012345678901234567890123 987654321098765432109876543210987 True\n34 1234567890123456789012345678901234 9876543210987654321098765432109876 True\n35 12345678901234567890123456789012345 98765432109876543210987654321098765 True\n36 123456789012345678901234567890123456 987654321098765432109876543210987654 True\n37 1234567890123456789012345678901234567 9876543210987654321098765432109876543 True\n38 12345678901234567890123456789012345678 98765432109876543210987654321098765432 True\n39 123456789012345678901234567890123456789 987654321098765432109876543210987654321 True\n40 1234567890123456789012345678901234567890 9876543210987654321098765432109876543210 True\n41 12345678901234567890123456789012345678901 98765432109876543210987654321098765432109 True\n42 123456789012345678901234567890123456789012 987654321098765432109876543210987654321098 True\n43 1234567890123456789012345678901234567890123 9876543210987654321098765432109876543210987 True\n44 12345678901234567890123456789012345678901234 98765432109876543210987654321098765432109876 True\n45 123456789012345678901234567890123456789012345 987654321098765432109876543210987654321098765 True\n46 1234567890123456789012345678901234567890123456 9876543210987654321098765432109876543210987654 True\n47 12345678901234567890123456789012345678901234567 98765432109876543210987654321098765432109876543 True\n48 123456789012345678901234567890123456789012345678 987654321098765432109876543210987654321098765432 True\n49 1234567890123456789012345678901234567890123456789 9876543210987654321098765432109876543210987654321 True\n50 12345678901234567890123456789012345678901234567890 98765432109876543210987654321098765432109876543210 True\n"
    }
   ],
   "source": [
    "# Final application, multiply two large numbers\n",
    "\n",
    "def lmul(a, b):\n",
    "    pa = numtopoly(a)\n",
    "    pb = numtopoly(b)\n",
    "    #print(pa)\n",
    "    #print(pb)\n",
    "    l = math.ceil(math.log(len(pa.c)+len(pb.c))/math.log(2))\n",
    "    n = 2**l-1\n",
    "    x = nthRootsOfUnity1(n+1)\n",
    "    #print(\"l=\",l)\n",
    "    #print(\"n=\", n)\n",
    "\n",
    "    ea = epex(pa, x)\n",
    "    #ea2 = pa(x[:-1])\n",
    "    #print(cmplc(ea, ea2))\n",
    "    eb = epex(pb, x)\n",
    "    #eb2 = pb(x[:-1])\n",
    "    #print(cmplc(eb, eb2))\n",
    "\n",
    "    y = ea*eb\n",
    "    pm = myLagrange(x[:-1], y)\n",
    "    m = polytonum(pm)\n",
    "    return m\n",
    "\n",
    "\"\"\"\n",
    "# This test fails with scipy.interpolate.lgrange\n",
    "a = 12345678901234567\n",
    "b = 98765432109876543\n",
    "m1 = lmul(a,b)\n",
    "m2 = a*b\n",
    "print(m1)\n",
    "print(m2)\n",
    "print(m1==m2)\n",
    "\"\"\"\n",
    "\n",
    "# Many tests, up to 50x50 digits\n",
    "def tmul():\n",
    "    sa = \"1234567890\"*5\n",
    "    sb = \"9876543210\"*5\n",
    "\n",
    "    for i in range(len(sa)):\n",
    "        a = int(sa[:i+1])\n",
    "        b = int(sb[:i+1])\n",
    "        m = lmul(a, b)\n",
    "        print(i+1, a, b, a*b==m)\n",
    "\n",
    "tmul()"
   ]
  },
  {
   "cell_type": "code",
   "execution_count": null,
   "metadata": {},
   "outputs": [],
   "source": []
  }
 ],
 "metadata": {
  "kernelspec": {
   "display_name": "Python 3.8.3 64-bit",
   "language": "python",
   "name": "python_defaultSpec_1595015391360"
  },
  "language_info": {
   "codemirror_mode": {
    "name": "ipython",
    "version": 3
   },
   "file_extension": ".py",
   "mimetype": "text/x-python",
   "name": "python",
   "nbconvert_exporter": "python",
   "pygments_lexer": "ipython3",
   "version": "3.7.0"
  }
 },
 "nbformat": 4,
 "nbformat_minor": 2
}