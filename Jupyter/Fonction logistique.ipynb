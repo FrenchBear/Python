{
 "cells": [
  {
   "cell_type": "markdown",
   "metadata": {},
   "source": [
    "Exercices sur la fonction logistique x(i+1) = k\\*x(i)\\*(1-x(i))\n",
    "\n",
    "2018-03-23   PV     L'environnement Jupyter devient quasiment inutilisable dans firefox quand un graphique est affiché, mais apparemment pas de problème avec Chrome"
   ]
  },
  {
   "cell_type": "code",
   "execution_count": 9,
   "metadata": {},
   "outputs": [],
   "source": [
    "import numpy as np\n",
    "import pandas as pd\n",
    "import matplotlib.pyplot as plt\n",
    "%matplotlib inline\n",
    "%config InlineBackend.figure_format='svg'"
   ]
  },
  {
   "cell_type": "code",
   "execution_count": 10,
   "metadata": {},
   "outputs": [],
   "source": [
    "# Première version simple\n",
    "def logis(k, skip=50, iter=50):\n",
    "    x = 0.1\n",
    "    res = []\n",
    "    for i in range(skip):\n",
    "        x = k*x*(1-x)\n",
    "    for i in range(iter):\n",
    "        x = k*x*(1-x)\n",
    "        res.append(x)\n",
    "    return res\n",
    "\n",
    "X = np.linspace(3.4,3.6,500)\n",
    "Y = []\n",
    "#plt.figure(figsize=(10,6))\n",
    "#for x in X:\n",
    "#    Y.append(logis(x))\n",
    "#_ = plt.plot(X,Y,'bo',markersize=0.1)"
   ]
  },
  {
   "cell_type": "code",
   "execution_count": 11,
   "metadata": {},
   "outputs": [],
   "source": [
    "# Deuxième version de la foncton logistique\n",
    "# Attend que la fonction soit devenu stable avant de capturer des points\n",
    "# La fonction est stable si on retrouve une valeur déjà trouvée à epsilon près, \n",
    "# ou qu'on a effectué maxprep itérations\n",
    "# Une fois qu'on a atteint le mode périodique, on capture maxloop valeurs ou jusqu'à\n",
    "# ce qu'on retombe sur une valeur à epsilon près.\n",
    "# Le tracé est plus joli puisque on dessine un ensemble stable\n",
    "def l2(k):\n",
    "    maxprep = 100\n",
    "    maxloop = 350\n",
    "    epsilon = 0.0001\n",
    "    x = 0.5\n",
    "    res = np.full(maxprep, 0.0)\n",
    "    for i in range(maxprep):\n",
    "        res[i] = x\n",
    "        x = k*x*(1-x)\n",
    "        if min(np.abs(res-x))<epsilon: break\n",
    "    res = np.full(maxloop, 0.0)\n",
    "    for i in range(maxloop):\n",
    "        res[i] = x\n",
    "        x = k*x*(1-x)\n",
    "        if min(np.abs(res-x))<epsilon: break\n",
    "    i = res\n",
    "    return res[np.nonzero(res)]"
   ]
  },
  {
   "cell_type": "code",
   "execution_count": null,
   "metadata": {},
   "outputs": [],
   "source": [
    "X = np.linspace(2.8,3.9,400)\n",
    "Y = []\n",
    "plt.figure(figsize=(10,6))\n",
    "for x in X:\n",
    "    plt.plot([x], [l2(x)], 'bo', markersize=0.2)"
   ]
  },
  {
   "cell_type": "code",
   "execution_count": null,
   "metadata": {},
   "outputs": [],
   "source": []
  }
 ],
 "metadata": {
  "kernelspec": {
   "display_name": "Python 3",
   "language": "python",
   "name": "python3"
  },
  "language_info": {
   "codemirror_mode": {
    "name": "ipython",
    "version": 3
   },
   "file_extension": ".py",
   "mimetype": "text/x-python",
   "name": "python",
   "nbconvert_exporter": "python",
   "pygments_lexer": "ipython3",
   "version": "3.6.5"
  }
 },
 "nbformat": 4,
 "nbformat_minor": 2
}
